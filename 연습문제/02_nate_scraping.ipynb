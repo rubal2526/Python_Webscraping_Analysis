{
 "cells": [
  {
   "cell_type": "code",
   "execution_count": null,
   "id": "13e1f672",
   "metadata": {},
   "outputs": [],
   "source": [
    "import requests\n",
    "from bs4 import BeautifulSoup\n",
    "from IPython.display import Image, display\n",
    "\n",
    "# 네이트 뉴스 섹션 딕셔너리\n",
    "section_dict = {'최신뉴스': '100', '정치': '200', '경제': '300', '사회': '400', '세계': '500', 'IT/과학': '600'}\n",
    "\n",
    "def print_nate_news(section_name):\n",
    "    \"\"\"\n",
    "    네이트 뉴스의 지정된 섹션에서 이미지, 제목, 링크를 순서대로 가져와 출력하는 함수\n",
    "    '최신뉴스' 섹션의 다른 URL 및 페이지 구조를 분기 처리함\n",
    "    \"\"\"\n",
    "    sid = section_dict.get(section_name)\n",
    "    if not sid:\n",
    "        print(f\"'{section_name}'은(는) 유효한 섹션 이름이 아닙니다.\")\n",
    "        return\n",
    "\n",
    "    # [수정] '최신뉴스' 섹션에 따라 URL을 다르게 생성\n",
    "    if section_name == '최신뉴스':\n",
    "        url = f'https://news.nate.com/recent?mid=n0{sid}'\n",
    "    else:\n",
    "        url = f'https://news.nate.com/section?mid=n0{sid}'\n",
    "        \n",
    "    print(f'======> {url} {section_name} 뉴스 <======\\n')\n",
    "\n",
    "    req_header = {\n",
    "        \"user-agent\": \"Mozilla/5.0 (Windows NT 10.0; Win64; x64) AppleWebKit/537.36 (KHTML, like Gecko) Chrome/126.0.0.0 Safari/537.36\"\n",
    "    }\n",
    "\n",
    "    res = requests.get(url, headers=req_header)\n",
    "\n",
    "    if res.ok:\n",
    "        soup = BeautifulSoup(res.content, \"html.parser\")\n",
    "        \n",
    "        # [수정] '최신뉴스'와 다른 섹션의 스크래핑 로직을 분리\n",
    "        if section_name == '최신뉴스':\n",
    "            # '최신뉴스' 페이지 스크래핑 로직\n",
    "            all_articles = soup.select(\"div.post-list-type1\")\n",
    "            if not all_articles:\n",
    "                print(\"최신 뉴스 목록을 찾을 수 없습니다.\")\n",
    "                return\n",
    "\n",
    "            for item in all_articles:\n",
    "                link_tag = item.select_one('dl > dt > a')\n",
    "                if link_tag:\n",
    "                    link = link_tag.get('href', '#')\n",
    "                    if link.startswith('//'): link = 'https:' + link\n",
    "                    \n",
    "                    title_tag = link_tag.select_one('h2.tit')\n",
    "                    if title_tag: title = title_tag.text.strip()\n",
    "\n",
    "                img_tag = item.select_one('dd.thum > a > img')\n",
    "                if img_tag and img_tag.has_attr('src'):\n",
    "                    img_src = img_tag['src']\n",
    "                    if img_src.startswith('//'): img_src = 'https:' + img_src\n",
    "                \n",
    "                # 출력\n",
    "                if img_src: display(Image(url=img_src))\n",
    "                print(f'{title} {link}\\n')\n",
    "                print('-' * 50)\n",
    "                \n",
    "        else:\n",
    "            # 기존 '정치', '경제' 등 다른 섹션의 스크래핑 로직\n",
    "            top_story = soup.select(\"div.mlt01\")\n",
    "            list_stories = soup.select(\"div.post_list li\")\n",
    "            all_articles = top_story + list_stories\n",
    "            if not all_articles:\n",
    "                print(\"뉴스 목록을 찾을 수 없습니다.\")\n",
    "                return\n",
    "\n",
    "            for item in all_articles:\n",
    "                link_tag = item.find('a')\n",
    "                if link_tag and link_tag.has_attr('href'):\n",
    "                    link = link_tag['href']\n",
    "                    if link.startswith('//'): link = 'https:' + link\n",
    "\n",
    "                title_tag = item.select_one(\"h2.tit\")\n",
    "                if title_tag: title = title_tag.text.strip()\n",
    "                    \n",
    "                img_tag = item.find('img')\n",
    "                if img_tag and img_tag.has_attr('src'):\n",
    "                    img_src = img_tag['src']\n",
    "                    if img_src.startswith('//'): img_src = 'https:' + img_src\n",
    "                \n",
    "                # 출력\n",
    "                if img_src: display(Image(url=img_src))\n",
    "                print(f'{title} {link}\\n')\n",
    "                print('-' * 50)\n",
    "            \n",
    "    else:\n",
    "        print(f'Error Code = {res.status_code}')\n"
   ]
  },
  {
   "cell_type": "code",
   "execution_count": 47,
   "id": "ecd3cad6",
   "metadata": {},
   "outputs": [
    {
     "name": "stdout",
     "output_type": "stream",
     "text": [
      "======> https://news.nate.com/section?mid=n0200 정치 뉴스 <======\n",
      "\n"
     ]
    },
    {
     "data": {
      "text/html": [
       "<img src=\"https://thumbnews.nateimg.co.kr/news90///news.nateimg.co.kr/orgImg/jt/2025/07/22/20250722192249370001.jpg\"/>"
      ],
      "text/plain": [
       "<IPython.core.display.Image object>"
      ]
     },
     "metadata": {},
     "output_type": "display_data"
    },
    {
     "name": "stdout",
     "output_type": "stream",
     "text": [
      "[단독] \"북한이 5대? 우린 1000대\"…'당시 민간인' 김용현, 개입 정황 https://news.nate.com/view/20250722n36081?mid=n0200\n",
      "\n",
      "--------------------------------------------------\n"
     ]
    },
    {
     "data": {
      "text/html": [
       "<img src=\"https://thumbnews.nateimg.co.kr/news90///news.nateimg.co.kr/orgImg/yt/2025/07/22/PYH2025072203630001301_P2.jpg\"/>"
      ],
      "text/plain": [
       "<IPython.core.display.Image object>"
      ]
     },
     "metadata": {},
     "output_type": "display_data"
    },
    {
     "name": "stdout",
     "output_type": "stream",
     "text": [
      "'尹 격노 위증' 김계환 구속영장 기각…\"도망·증거인멸 염려 없어\" https://news.nate.com/view/20250722n38250?mid=n0200\n",
      "\n",
      "--------------------------------------------------\n"
     ]
    },
    {
     "data": {
      "text/html": [
       "<img src=\"https://thumbnews.nateimg.co.kr/news90///news.nateimg.co.kr/orgImg/nt/2025/07/22/20250722192304_20_552_1394173_1080_7.jpg\"/>"
      ],
      "text/plain": [
       "<IPython.core.display.Image object>"
      ]
     },
     "metadata": {},
     "output_type": "display_data"
    },
    {
     "name": "stdout",
     "output_type": "stream",
     "text": [
      "[단독] 한동훈, 출마 상관없이 '반극우 연대' 앞장…전대 구도 바뀌나 https://news.nate.com/view/20250722n36267?mid=n0200\n",
      "\n",
      "--------------------------------------------------\n"
     ]
    },
    {
     "data": {
      "text/html": [
       "<img src=\"https://thumbnews.nateimg.co.kr/news90///news.nateimg.co.kr/orgImg/jt/2025/07/22/20250722200306025001.jpg\"/>"
      ],
      "text/plain": [
       "<IPython.core.display.Image object>"
      ]
     },
     "metadata": {},
     "output_type": "display_data"
    },
    {
     "name": "stdout",
     "output_type": "stream",
     "text": [
      "'예산 갑질' 폭로당한 강선우…실제로 \"징벌적 삭감\" 시도 https://news.nate.com/view/20250722n36861?mid=n0200\n",
      "\n",
      "--------------------------------------------------\n"
     ]
    },
    {
     "data": {
      "text/html": [
       "<img src=\"https://thumbnews.nateimg.co.kr/news90///news.nateimg.co.kr/orgImg/ed/2025/07/22/PS25072201140.jpg\"/>"
      ],
      "text/plain": [
       "<IPython.core.display.Image object>"
      ]
     },
     "metadata": {},
     "output_type": "display_data"
    },
    {
     "name": "stdout",
     "output_type": "stream",
     "text": [
      "\"얼굴 잘 몰라서…\" \"소년공 출신 대통령\" 국무회의 '말말말' https://news.nate.com/view/20250722n34756?mid=n0200\n",
      "\n",
      "--------------------------------------------------\n"
     ]
    },
    {
     "data": {
      "text/html": [
       "<img src=\"https://thumbnews.nateimg.co.kr/news90///news.nateimg.co.kr/orgImg/kh/2025/07/22/news-p.v1.20250722.b9fd659e4ab34905b3f6a245dd36a15a_P1.jpeg\"/>"
      ],
      "text/plain": [
       "<IPython.core.display.Image object>"
      ]
     },
     "metadata": {},
     "output_type": "display_data"
    },
    {
     "name": "stdout",
     "output_type": "stream",
     "text": [
      "[단독]내란 특검, '경향신문 등 단전·단수 의혹' 중부·마포·서대문소방서 압수수색 https://news.nate.com/view/20250722n21198?mid=n0200\n",
      "\n",
      "--------------------------------------------------\n"
     ]
    },
    {
     "data": {
      "text/html": [
       "<img src=\"https://thumbnews.nateimg.co.kr/news90///news.nateimg.co.kr/orgImg/hi/2025/07/22/6a857971-9e53-47aa-830b-4aecbf2bedad.jpg\"/>"
      ],
      "text/plain": [
       "<IPython.core.display.Image object>"
      ]
     },
     "metadata": {},
     "output_type": "display_data"
    },
    {
     "name": "stdout",
     "output_type": "stream",
     "text": [
      "홍준표 \"국힘 복당은 없다…9월 초 '홍카콜라' 유튜브 재개\" https://news.nate.com/view/20250722n16746?mid=n0200\n",
      "\n",
      "--------------------------------------------------\n"
     ]
    },
    {
     "data": {
      "text/html": [
       "<img src=\"https://thumbnews.nateimg.co.kr/news90///news.nateimg.co.kr/orgImg/hi/2025/07/22/02a4b725-ee21-4294-a674-848ddc6480ab.jpg\"/>"
      ],
      "text/plain": [
       "<IPython.core.display.Image object>"
      ]
     },
     "metadata": {},
     "output_type": "display_data"
    },
    {
     "name": "stdout",
     "output_type": "stream",
     "text": [
      "尹 관저 공사 업체 \"경호처, 갑자기 공사 중단 요청…이후 현대건설 등장\" https://news.nate.com/view/20250722n22420?mid=n0200\n",
      "\n",
      "--------------------------------------------------\n"
     ]
    },
    {
     "data": {
      "text/html": [
       "<img src=\"https://thumbnews.nateimg.co.kr/news90///news.nateimg.co.kr/orgImg/mt/2025/07/22/2025072211294860010_1.jpg\"/>"
      ],
      "text/plain": [
       "<IPython.core.display.Image object>"
      ]
     },
     "metadata": {},
     "output_type": "display_data"
    },
    {
     "name": "stdout",
     "output_type": "stream",
     "text": [
      "野주진우 \"최동석은 극우 인사…성폭력 피해자를 가해자로 몰아\" https://news.nate.com/view/20250722n16824?mid=n0200\n",
      "\n",
      "--------------------------------------------------\n"
     ]
    },
    {
     "data": {
      "text/html": [
       "<img src=\"https://thumbnews.nateimg.co.kr/news90///news.nateimg.co.kr/orgImg/hn/2025/07/22/20250722501312.jpg\"/>"
      ],
      "text/plain": [
       "<IPython.core.display.Image object>"
      ]
     },
     "metadata": {},
     "output_type": "display_data"
    },
    {
     "name": "stdout",
     "output_type": "stream",
     "text": [
      "친윤 인요한 \"전한길은 인물, 입당 환영…국힘 다양성 보여줘\" https://news.nate.com/view/20250722n13405?mid=n0200\n",
      "\n",
      "--------------------------------------------------\n"
     ]
    },
    {
     "data": {
      "text/html": [
       "<img src=\"https://thumbnews.nateimg.co.kr/news90///news.nateimg.co.kr/orgImg/nt/2025/07/18/20250718194214_20_552_1393906_1080_7.jpg\"/>"
      ],
      "text/plain": [
       "<IPython.core.display.Image object>"
      ]
     },
     "metadata": {},
     "output_type": "display_data"
    },
    {
     "name": "stdout",
     "output_type": "stream",
     "text": [
      "[단독] 김영훈, 노조 활동 핑계로 해외여행 의혹…공식 출장도 '외유성' 논란 https://news.nate.com/view/20250718n30727?mid=n0200\n",
      "\n",
      "--------------------------------------------------\n"
     ]
    },
    {
     "data": {
      "text/html": [
       "<img src=\"https://thumbnews.nateimg.co.kr/news90///news.nateimg.co.kr/orgImg/na/2025/07/18/7401093_high.jpg\"/>"
      ],
      "text/plain": [
       "<IPython.core.display.Image object>"
      ]
     },
     "metadata": {},
     "output_type": "display_data"
    },
    {
     "name": "stdout",
     "output_type": "stream",
     "text": [
      "여야, 윤호중 행안부 장관 후보자 청문보고서 합의 채택 https://news.nate.com/view/20250718n34094?mid=n0200\n",
      "\n",
      "--------------------------------------------------\n"
     ]
    },
    {
     "data": {
      "text/html": [
       "<img src=\"https://thumbnews.nateimg.co.kr/news90///news.nateimg.co.kr/orgImg/oh/2025/07/18/IE003497270_STD.jpg\"/>"
      ],
      "text/plain": [
       "<IPython.core.display.Image object>"
      ]
     },
     "metadata": {},
     "output_type": "display_data"
    },
    {
     "name": "stdout",
     "output_type": "stream",
     "text": [
      "\"김성환 후보자, '핵발전 옹호'는 시대착오적 궤변\" https://news.nate.com/view/20250718n08838?mid=n0200\n",
      "\n",
      "--------------------------------------------------\n"
     ]
    },
    {
     "data": {
      "text/html": [
       "<img src=\"https://thumbnews.nateimg.co.kr/news90///news.nateimg.co.kr/orgImg/ns/2025/07/22/NISI20250630_0020869164_web.jpg\"/>"
      ],
      "text/plain": [
       "<IPython.core.display.Image object>"
      ]
     },
     "metadata": {},
     "output_type": "display_data"
    },
    {
     "name": "stdout",
     "output_type": "stream",
     "text": [
      "'의사 출신' 정은경, 의정갈등 매듭 푸나…연금개혁·돌봄 현안 산적 https://news.nate.com/view/20250722n02289?mid=n0200\n",
      "\n",
      "--------------------------------------------------\n"
     ]
    },
    {
     "data": {
      "text/html": [
       "<img src=\"https://thumbnews.nateimg.co.kr/news90///news.nateimg.co.kr/orgImg/yt/2025/07/22/AKR20250722087700504_01_i.jpg\"/>"
      ],
      "text/plain": [
       "<IPython.core.display.Image object>"
      ]
     },
     "metadata": {},
     "output_type": "display_data"
    },
    {
     "name": "stdout",
     "output_type": "stream",
     "text": [
      "군사분계선 넘은 北주민 유도한 병사들에 한달 포상 휴가 https://news.nate.com/view/20250722n19209?mid=n0200\n",
      "\n",
      "--------------------------------------------------\n"
     ]
    }
   ],
   "source": [
    "print_nate_news('정치')"
   ]
  }
 ],
 "metadata": {
  "kernelspec": {
   "display_name": "Python 3",
   "language": "python",
   "name": "python3"
  },
  "language_info": {
   "codemirror_mode": {
    "name": "ipython",
    "version": 3
   },
   "file_extension": ".py",
   "mimetype": "text/x-python",
   "name": "python",
   "nbconvert_exporter": "python",
   "pygments_lexer": "ipython3",
   "version": "3.13.5"
  }
 },
 "nbformat": 4,
 "nbformat_minor": 5
}
