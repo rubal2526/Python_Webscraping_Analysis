{
 "cells": [
  {
   "cell_type": "code",
   "execution_count": 2,
   "id": "13e1f672",
   "metadata": {},
   "outputs": [],
   "source": [
    "import requests\n",
    "from bs4 import BeautifulSoup\n",
    "from IPython.display import Image, display\n",
    "\n",
    "# 네이트 뉴스 섹션 딕셔너리\n",
    "section_dict = {'최신뉴스': '100', '정치': '200', '경제': '300', '사회': '400', '세계': '500', 'IT/과학': '600'}\n",
    "\n",
    "def print_nate_news(section_name):\n",
    "    \"\"\"\n",
    "    네이트 뉴스의 지정된 섹션에서 이미지, 제목, 링크를 순서대로 가져와 출력하는 함수\n",
    "    '최신뉴스' 섹션의 다른 URL 및 페이지 구조를 분기 처리함\n",
    "    \"\"\"\n",
    "    sid = section_dict.get(section_name)\n",
    "    if not sid:\n",
    "        print(f\"'{section_name}'은(는) 유효한 섹션 이름이 아닙니다.\")\n",
    "        return\n",
    "\n",
    "    # [수정] '최신뉴스' 섹션에 따라 URL을 다르게 생성\n",
    "    if section_name == '최신뉴스':\n",
    "        url = f'https://news.nate.com/recent?mid=n0{sid}'\n",
    "    else:\n",
    "        url = f'https://news.nate.com/section?mid=n0{sid}'\n",
    "        \n",
    "    print(f'======> {url} {section_name} 뉴스 <======\\n')\n",
    "\n",
    "    req_header = {\n",
    "        \"user-agent\": \"Mozilla/5.0 (Windows NT 10.0; Win64; x64) AppleWebKit/537.36 (KHTML, like Gecko) Chrome/126.0.0.0 Safari/537.36\"\n",
    "    }\n",
    "\n",
    "    res = requests.get(url, headers=req_header)\n",
    "\n",
    "    if res.ok:\n",
    "        soup = BeautifulSoup(res.content, \"html.parser\")\n",
    "        \n",
    "        # [수정] '최신뉴스'와 다른 섹션의 스크래핑 로직을 분리\n",
    "        if section_name == '최신뉴스':\n",
    "            # '최신뉴스' 페이지 스크래핑 로직\n",
    "            all_articles = soup.select(\"div.post-list-type1\")\n",
    "            if not all_articles:\n",
    "                print(\"최신 뉴스 목록을 찾을 수 없습니다.\")\n",
    "                return\n",
    "\n",
    "            for item in all_articles:\n",
    "                link_tag = item.select_one('dl > dt > a')\n",
    "                if link_tag:\n",
    "                    link = link_tag.get('href', '#')\n",
    "                    if link.startswith('//'): link = 'https:' + link\n",
    "                    \n",
    "                    title_tag = link_tag.select_one('h2.tit')\n",
    "                    if title_tag: title = title_tag.text.strip()\n",
    "\n",
    "                img_tag = item.select_one('dd.thum > a > img')\n",
    "                if img_tag and img_tag.has_attr('src'):\n",
    "                    img_src = img_tag['src']\n",
    "                    if img_src.startswith('//'): img_src = 'https:' + img_src\n",
    "                \n",
    "                # 출력\n",
    "                if img_src: display(Image(url=img_src))\n",
    "                print(f'{title} {link}\\n')\n",
    "                print('-' * 50)\n",
    "                \n",
    "        else:\n",
    "            # 기존 '정치', '경제' 등 다른 섹션의 스크래핑 로직\n",
    "            top_story = soup.select(\"div.mlt01\")\n",
    "            list_stories = soup.select(\"div.post_list li\")\n",
    "            all_articles = top_story + list_stories\n",
    "            if not all_articles:\n",
    "                print(\"뉴스 목록을 찾을 수 없습니다.\")\n",
    "                return\n",
    "\n",
    "            for item in all_articles:\n",
    "                link_tag = item.find('a')\n",
    "                if link_tag and link_tag.has_attr('href'):\n",
    "                    link = link_tag['href']\n",
    "                    if link.startswith('//'): link = 'https:' + link\n",
    "\n",
    "                title_tag = item.select_one(\"h2.tit\")\n",
    "                if title_tag: title = title_tag.text.strip()\n",
    "                    \n",
    "                img_tag = item.find('img')\n",
    "                if img_tag and img_tag.has_attr('src'):\n",
    "                    img_src = img_tag['src']\n",
    "                    if img_src.startswith('//'): img_src = 'https:' + img_src\n",
    "                \n",
    "                # 출력\n",
    "                if img_src: display(Image(url=img_src))\n",
    "                print(f'{title} {link}\\n')\n",
    "                print('-' * 50)\n",
    "            \n",
    "    else:\n",
    "        print(f'Error Code = {res.status_code}')\n"
   ]
  },
  {
   "cell_type": "code",
   "execution_count": 3,
   "id": "ecd3cad6",
   "metadata": {},
   "outputs": [
    {
     "name": "stdout",
     "output_type": "stream",
     "text": [
      "======> https://news.nate.com/section?mid=n0300 경제 뉴스 <======\n",
      "\n"
     ]
    },
    {
     "data": {
      "text/html": [
       "<img src=\"https://thumbnews.nateimg.co.kr/news90///news.nateimg.co.kr/orgImg/yt/2025/07/23/PRU20250718039401009_P2.jpg\"/>"
      ],
      "text/plain": [
       "<IPython.core.display.Image object>"
      ]
     },
     "metadata": {},
     "output_type": "display_data"
    },
    {
     "name": "stdout",
     "output_type": "stream",
     "text": [
      "가상화폐 비트코인 다시 '상승 모드'…한때 12만달러선 탈환 https://news.nate.com/view/20250723n03447?mid=n0300\n",
      "\n",
      "--------------------------------------------------\n"
     ]
    },
    {
     "data": {
      "text/html": [
       "<img src=\"https://thumbnews.nateimg.co.kr/news90///news.nateimg.co.kr/orgImg/yt/2025/07/23/PYH2025062414270001300_P2.jpg\"/>"
      ],
      "text/plain": [
       "<IPython.core.display.Image object>"
      ]
     },
     "metadata": {},
     "output_type": "display_data"
    },
    {
     "name": "stdout",
     "output_type": "stream",
     "text": [
      "집값 상승 기대 3년 만에 최대폭↓…\"대출 규제 영향\" https://news.nate.com/view/20250723n01998?mid=n0300\n",
      "\n",
      "--------------------------------------------------\n"
     ]
    },
    {
     "data": {
      "text/html": [
       "<img src=\"https://thumbnews.nateimg.co.kr/news90///news.nateimg.co.kr/orgImg/mk/2025/07/23/news-p.v1.20250722.6e4df01b6c5e4f35a9fe2017e85869ae_P1.jpeg\"/>"
      ],
      "text/plain": [
       "<IPython.core.display.Image object>"
      ]
     },
     "metadata": {},
     "output_type": "display_data"
    },
    {
     "name": "stdout",
     "output_type": "stream",
     "text": [
      "\"그래도 대학 나왔는데 그런 일은 좀\"…중졸 백수보다 많아진 취업포기 대졸자 https://news.nate.com/view/20250723n02635?mid=n0300\n",
      "\n",
      "--------------------------------------------------\n"
     ]
    },
    {
     "data": {
      "text/html": [
       "<img src=\"https://thumbnews.nateimg.co.kr/news90///news.nateimg.co.kr/orgImg/ch/2025/07/23/ch_1753198394951_612468_0.jpg\"/>"
      ],
      "text/plain": [
       "<IPython.core.display.Image object>"
      ]
     },
     "metadata": {},
     "output_type": "display_data"
    },
    {
     "name": "stdout",
     "output_type": "stream",
     "text": [
      "수박 한 통 가격 3만원대, 풋고추도 100g당 2000원 돌파 https://news.nate.com/view/20250723n00311?mid=n0300\n",
      "\n",
      "--------------------------------------------------\n"
     ]
    },
    {
     "data": {
      "text/html": [
       "<img src=\"https://thumbnews.nateimg.co.kr/news90///news.nateimg.co.kr/orgImg/hk/2025/07/23/ZN.26708785.1.jpg\"/>"
      ],
      "text/plain": [
       "<IPython.core.display.Image object>"
      ]
     },
     "metadata": {},
     "output_type": "display_data"
    },
    {
     "name": "stdout",
     "output_type": "stream",
     "text": [
      "\"경제가 어렵다\"…유흥업소 매출 3년만에 줄었다 https://news.nate.com/view/20250723n02002?mid=n0300\n",
      "\n",
      "--------------------------------------------------\n"
     ]
    },
    {
     "data": {
      "text/html": [
       "<img src=\"https://thumbnews.nateimg.co.kr/news90///news.nateimg.co.kr/orgImg/jt/2025/07/22/20250722202523238001.jpg\"/>"
      ],
      "text/plain": [
       "<IPython.core.display.Image object>"
      ]
     },
     "metadata": {},
     "output_type": "display_data"
    },
    {
     "name": "stdout",
     "output_type": "stream",
     "text": [
      "[단독] 전세금 760억 등친 '수원 왕회장'…감옥서도 지인 앞세워 '돈벌이' https://news.nate.com/view/20250722n37463?mid=n0300\n",
      "\n",
      "--------------------------------------------------\n"
     ]
    },
    {
     "data": {
      "text/html": [
       "<img src=\"https://thumbnews.nateimg.co.kr/news90///news.nateimg.co.kr/orgImg/mk/2025/07/22/20250723_01110105000003_L00.jpg\"/>"
      ],
      "text/plain": [
       "<IPython.core.display.Image object>"
      ]
     },
     "metadata": {},
     "output_type": "display_data"
    },
    {
     "name": "stdout",
     "output_type": "stream",
     "text": [
      "쌀·소고기 대신 '통큰 석유수입'…美에 100억弗 보따리 푼다 https://news.nate.com/view/20250722n33482?mid=n0300\n",
      "\n",
      "--------------------------------------------------\n"
     ]
    },
    {
     "data": {
      "text/html": [
       "<img src=\"https://thumbnews.nateimg.co.kr/news90///news.nateimg.co.kr/orgImg/fn/2025/07/22/202507220926296616_l.jpg\"/>"
      ],
      "text/plain": [
       "<IPython.core.display.Image object>"
      ]
     },
     "metadata": {},
     "output_type": "display_data"
    },
    {
     "name": "stdout",
     "output_type": "stream",
     "text": [
      "코스피, 연중 신고점 경신에도 하락 마감 [fn마감시황] https://news.nate.com/view/20250722n25370?mid=n0300\n",
      "\n",
      "--------------------------------------------------\n"
     ]
    },
    {
     "data": {
      "text/html": [
       "<img src=\"https://thumbnews.nateimg.co.kr/news90///news.nateimg.co.kr/orgImg/mk/2025/07/22/news-p.v1.20250722.2db14126f0ab4ef49e9e335465ef9ff6_P1.jpg\"/>"
      ],
      "text/plain": [
       "<IPython.core.display.Image object>"
      ]
     },
     "metadata": {},
     "output_type": "display_data"
    },
    {
     "name": "stdout",
     "output_type": "stream",
     "text": [
      "\"직원이 대포통장 126개 만들 동안 뭐했나\"…내부통제 무너진 새마을금고 https://news.nate.com/view/20250722n20238?mid=n0300\n",
      "\n",
      "--------------------------------------------------\n"
     ]
    },
    {
     "data": {
      "text/html": [
       "<img src=\"https://thumbnews.nateimg.co.kr/news90///news.nateimg.co.kr/orgImg/sg/2025/07/22/20250722504220.jpg\"/>"
      ],
      "text/plain": [
       "<IPython.core.display.Image object>"
      ]
     },
     "metadata": {},
     "output_type": "display_data"
    },
    {
     "name": "stdout",
     "output_type": "stream",
     "text": [
      "\"아직도 금 사니?…'불장'에는 주식 투자 해야 돈 벌지\" https://news.nate.com/view/20250722n16135?mid=n0300\n",
      "\n",
      "--------------------------------------------------\n"
     ]
    },
    {
     "data": {
      "text/html": [
       "<img src=\"https://thumbnews.nateimg.co.kr/news90///news.nateimg.co.kr/orgImg/se/2025/07/22/2GVG5RSL2O_1.png\"/>"
      ],
      "text/plain": [
       "<IPython.core.display.Image object>"
      ]
     },
     "metadata": {},
     "output_type": "display_data"
    },
    {
     "name": "stdout",
     "output_type": "stream",
     "text": [
      "\"꼭 사라\" → \"당장 팔아라\"···'16% 하락' 네이버 주가에 무슨 일이 https://news.nate.com/view/20250722n10608?mid=n0300\n",
      "\n",
      "--------------------------------------------------\n"
     ]
    },
    {
     "data": {
      "text/html": [
       "<img src=\"https://thumbnews.nateimg.co.kr/news90///news.nateimg.co.kr/orgImg/mt/2025/07/22/2025072209465054730_1.jpg\"/>"
      ],
      "text/plain": [
       "<IPython.core.display.Image object>"
      ]
     },
     "metadata": {},
     "output_type": "display_data"
    },
    {
     "name": "stdout",
     "output_type": "stream",
     "text": [
      "[단독]배민 이어 쿠팡이츠·요기요도 '한그릇' 마케팅…제2의 무료배달? https://news.nate.com/view/20250722n10968?mid=n0300\n",
      "\n",
      "--------------------------------------------------\n"
     ]
    },
    {
     "data": {
      "text/html": [
       "<img src=\"https://thumbnews.nateimg.co.kr/news90///news.nateimg.co.kr/orgImg/hi/2025/07/22/b5a0228c-9220-4d57-9691-db296955160e.jpg\"/>"
      ],
      "text/plain": [
       "<IPython.core.display.Image object>"
      ]
     },
     "metadata": {},
     "output_type": "display_data"
    },
    {
     "name": "stdout",
     "output_type": "stream",
     "text": [
      "주 4일제 했더니 번아웃 줄고 동료애 늘었다…우리나라도 그럴까 https://news.nate.com/view/20250722n00024?mid=n0300\n",
      "\n",
      "--------------------------------------------------\n"
     ]
    },
    {
     "data": {
      "text/html": [
       "<img src=\"https://thumbnews.nateimg.co.kr/news90///news.nateimg.co.kr/orgImg/do/2025/07/22/132044247.1.jpg\"/>"
      ],
      "text/plain": [
       "<IPython.core.display.Image object>"
      ]
     },
     "metadata": {},
     "output_type": "display_data"
    },
    {
     "name": "stdout",
     "output_type": "stream",
     "text": [
      "[단독]'퇴직금, 20년 이상 연금 수령땐 퇴직소득세 50% 감면' 검토 https://news.nate.com/view/20250722n00761?mid=n0300\n",
      "\n",
      "--------------------------------------------------\n"
     ]
    },
    {
     "data": {
      "text/html": [
       "<img src=\"https://thumbnews.nateimg.co.kr/news90///news.nateimg.co.kr/orgImg/yn/2025/07/21/202507211059468490_d.jpg\"/>"
      ],
      "text/plain": [
       "<IPython.core.display.Image object>"
      ]
     },
     "metadata": {},
     "output_type": "display_data"
    },
    {
     "name": "stdout",
     "output_type": "stream",
     "text": [
      "비계가 절반인데 1만5천원?…울릉도 끝없는 '바가지 논란' https://news.nate.com/view/20250721n13403?mid=n0300\n",
      "\n",
      "--------------------------------------------------\n"
     ]
    }
   ],
   "source": [
    "print_nate_news('경제')"
   ]
  }
 ],
 "metadata": {
  "kernelspec": {
   "display_name": "Python 3",
   "language": "python",
   "name": "python3"
  },
  "language_info": {
   "codemirror_mode": {
    "name": "ipython",
    "version": 3
   },
   "file_extension": ".py",
   "mimetype": "text/x-python",
   "name": "python",
   "nbconvert_exporter": "python",
   "pygments_lexer": "ipython3",
   "version": "3.13.5"
  }
 },
 "nbformat": 4,
 "nbformat_minor": 5
}
