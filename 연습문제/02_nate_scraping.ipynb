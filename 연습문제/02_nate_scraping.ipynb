{
 "cells": [
  {
   "cell_type": "code",
   "execution_count": null,
   "id": "13e1f672",
   "metadata": {},
   "outputs": [],
   "source": [
    "import requests\n",
    "from bs4 import BeautifulSoup\n",
    "from IPython.display import Image, display\n",
    "\n",
    "# 네이트 뉴스 섹션 딕셔너리\n",
    "section_dict = {'최신뉴스': '100', '정치': '200', '경제': '300', '사회': '400', '세계': '500', 'IT/과학': '600'}\n",
    "\n",
    "def print_nate_news(section_name):\n",
    "    sid = section_dict.get(section_name)\n",
    "    if not sid:\n",
    "        print(f\"'{section_name}'은(는) 유효한 섹션 이름이 아닙니다.\")\n",
    "        return\n",
    "\n",
    "    if section_name == '최신뉴스':\n",
    "        url = f'https://news.nate.com/recent?mid=n0{sid}'\n",
    "    else:\n",
    "        url = f'https://news.nate.com/section?mid=n0{sid}'\n",
    "        \n",
    "    print(f'======> {url} {section_name} 뉴스 <======\\n')\n",
    "\n",
    "    req_header = {\n",
    "        \"user-agent\": \"Mozilla/5.0 (Windows NT 10.0; Win64; x64) AppleWebKit/537.36 (KHTML, like Gecko) Chrome/126.0.0.0 Safari/537.36\"\n",
    "    }\n",
    "\n",
    "    res = requests.get(url, headers=req_header)\n",
    "\n",
    "    if res.ok:\n",
    "        html = res.text\n",
    "        soup = BeautifulSoup(res.content, \"html.parser\")\n",
    "        \n",
    "        # [수정] '최신뉴스'와 다른 섹션의 스크래핑 로직을 분리\n",
    "        if section_name == '최신뉴스':\n",
    "            # '최신뉴스' 페이지 스크래핑 로직\n",
    "            all_articles = soup.select(\"div.post-list-type1\")\n",
    "            if not all_articles:\n",
    "                print(\"최신 뉴스 목록을 찾을 수 없습니다.\")\n",
    "                return\n",
    "\n",
    "            for item in all_articles:\n",
    "                title, link, img_src = \"제목 없음\", \"#\", None\n",
    "                link_tag = item.select_one('dl > dt > a')\n",
    "                if link_tag:\n",
    "                    link = link_tag.get('href', '#')\n",
    "                    if link.startswith('//'): link = 'https:' + link\n",
    "                    \n",
    "                    title_tag = link_tag.select_one('strong.tit')\n",
    "                    if title_tag: title = title_tag.text.strip()\n",
    "\n",
    "                img_tag = item.select_one('dd.thum > a > img')\n",
    "                if img_tag and img_tag.has_attr('src'):\n",
    "                    img_src = img_tag['src']\n",
    "                    if img_src.startswith('//'): img_src = 'https:' + img_src\n",
    "                \n",
    "                # 출력\n",
    "                if img_src: display(Image(url=img_src))\n",
    "                print(f'📄 제목: {title}')\n",
    "                print(f'🔗 링크: {link}\\n')\n",
    "                print('-' * 50)\n",
    "                \n",
    "        else:\n",
    "            # 기존 '정치', '경제' 등 다른 섹션의 스크래핑 로직\n",
    "            top_story = soup.select(\"div.mlt01\")\n",
    "            list_stories = soup.select(\"div.post_list li\")\n",
    "            all_articles = top_story + list_stories\n",
    "            if not all_articles:\n",
    "                print(\"뉴스 목록을 찾을 수 없습니다.\")\n",
    "                return\n",
    "\n",
    "            for item in all_articles:\n",
    "                title, link, img_src = \"제목 없음\", \"#\", None\n",
    "                link_tag = item.find('a')\n",
    "                if link_tag and link_tag.has_attr('href'):\n",
    "                    link = link_tag['href']\n",
    "                    if link.startswith('//'): link = 'https:' + link\n",
    "\n",
    "                title_tag = item.select_one(\"strong.tit, strong.sub_tit\")\n",
    "                if title_tag: title = title_tag.text.strip()\n",
    "                    \n",
    "                img_tag = item.find('img')\n",
    "                if img_tag and img_tag.has_attr('src'):\n",
    "                    img_src = img_tag['src']\n",
    "                    if img_src.startswith('//'): img_src = 'https:' + img_src\n",
    "                \n",
    "                # 출력\n",
    "                if img_src: display(Image(url=img_src))\n",
    "                print(f'📄 제목: {title}')\n",
    "                print(f'🔗 링크: {link}\\n')\n",
    "                print('-' * 50)\n",
    "            \n",
    "    else:\n",
    "        print(f'Error Code = {res.status_code}')"
   ]
  },
  {
   "cell_type": "code",
   "execution_count": 28,
   "id": "f29572d2",
   "metadata": {},
   "outputs": [
    {
     "name": "stdout",
     "output_type": "stream",
     "text": [
      "======> https://news.nate.com/section?mid=n0600 IT/과학 뉴스 <======\n",
      "\n"
     ]
    },
    {
     "data": {
      "text/html": [
       "<img src=\"https://thumbnews.nateimg.co.kr/news90///news.nateimg.co.kr/orgImg/mk/2025/07/22/news-p.v1.20250722.131d9ee370a549f490bd60000da66f82_P1.png\"/>"
      ],
      "text/plain": [
       "<IPython.core.display.Image object>"
      ]
     },
     "metadata": {},
     "output_type": "display_data"
    },
    {
     "data": {
      "text/html": [
       "<img src=\"https://thumbnews.nateimg.co.kr/news90///news.nateimg.co.kr/orgImg/ae/2025/07/22/ae_1753176725026_730460_0.jpg\"/>"
      ],
      "text/plain": [
       "<IPython.core.display.Image object>"
      ]
     },
     "metadata": {},
     "output_type": "display_data"
    },
    {
     "data": {
      "text/html": [
       "<img src=\"https://thumbnews.nateimg.co.kr/news90///news.nateimg.co.kr/orgImg/jt/2025/07/22/20250722204646379001.jpg\"/>"
      ],
      "text/plain": [
       "<IPython.core.display.Image object>"
      ]
     },
     "metadata": {},
     "output_type": "display_data"
    },
    {
     "data": {
      "text/html": [
       "<img src=\"https://thumbnews.nateimg.co.kr/news90///news.nateimg.co.kr/orgImg/jo/2025/07/22/94b1ce49-e28c-43c2-91c8-40bad455a4bd.jpg\"/>"
      ],
      "text/plain": [
       "<IPython.core.display.Image object>"
      ]
     },
     "metadata": {},
     "output_type": "display_data"
    },
    {
     "data": {
      "text/html": [
       "<img src=\"https://thumbnews.nateimg.co.kr/news90///news.nateimg.co.kr/orgImg/hi/2025/07/22/0a88a683-76a3-436c-86e6-7ae3b039dd14.jpg\"/>"
      ],
      "text/plain": [
       "<IPython.core.display.Image object>"
      ]
     },
     "metadata": {},
     "output_type": "display_data"
    }
   ],
   "source": [
    "print_news('IT/과학')"
   ]
  }
 ],
 "metadata": {
  "kernelspec": {
   "display_name": "Python 3",
   "language": "python",
   "name": "python3"
  },
  "language_info": {
   "codemirror_mode": {
    "name": "ipython",
    "version": 3
   },
   "file_extension": ".py",
   "mimetype": "text/x-python",
   "name": "python",
   "nbconvert_exporter": "python",
   "pygments_lexer": "ipython3",
   "version": "3.13.5"
  }
 },
 "nbformat": 4,
 "nbformat_minor": 5
}
